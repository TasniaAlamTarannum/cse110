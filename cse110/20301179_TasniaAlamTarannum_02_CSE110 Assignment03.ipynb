{
 "cells": [
  {
   "cell_type": "markdown",
   "metadata": {},
   "source": [
    "# CSE110 Assignment 3\n",
    "\n"
   ]
  },
  {
   "cell_type": "markdown",
   "metadata": {},
   "source": [
    "\n",
    "## Write the Python code of the following problems:\n",
    "\n",
    "**<font color='red'>[MUST MAINTAIN VARIABLE NAMING CONVENTIONS FOR ALL THE TASKS]</font>**\n",
    "\n",
    "## Part 1: String\n",
    "\n",
    "\n",
    "\n"
   ]
  },
  {
   "cell_type": "markdown",
   "metadata": {},
   "source": [
    "### Task 1 \n",
    "\n",
    "Write a Python program that will ask the user to input a string (containing exactly one word). Then your program should print a subsequent substring of the given string.\n",
    "\n",
    "**Example1:**\\\n",
    "Input: BANGLA\\\n",
    "Output:\\\n",
    "B\\\n",
    "BA\\\n",
    "BAN\\\n",
    "BANG\\\n",
    "BANGL\\\n",
    "BANGLA\n",
    "\n",
    "**Example2:**\\\n",
    "Input: DREAM\\\n",
    "Output:\\\n",
    "D\\\n",
    "DR\\\n",
    "DRE\\\n",
    "DREA\\\n",
    "DREAM\n",
    "\n",
    "**Hints(1):** Need to use \"for loop\" for this task.\n",
    "\n",
    "**Hints(2):** Need to use print() function for prnting newlines.\n",
    "\n",
    "For example:\\\n",
    "print(1)\\\n",
    "print(2)\n",
    "\n",
    "Output:\\\n",
    "1\\\n",
    "2\n",
    "\n",
    "=====================================================================\n",
    "\n",
    "We need use print(end = \"\") to skip printing the additional newline.\n",
    "\n",
    "For example:\\\n",
    "print(1, end =\" \")\\\n",
    "print(2)\n",
    "\n",
    "Output:(prints the next output right to the previous one)\\\n",
    "12\n",
    "\n",
    "=====================================================================\n",
    "\n",
    "\n",
    "\n",
    "\n"
   ]
  },
  {
   "cell_type": "code",
   "execution_count": 52,
   "metadata": {},
   "outputs": [
    {
     "name": "stdout",
     "output_type": "stream",
     "text": [
      "Enter a word = DREAM\n",
      "Output:\n",
      "D\n",
      "DR\n",
      "DRE\n",
      "DREA\n",
      "DREAM\n"
     ]
    }
   ],
   "source": [
    "#Todo\n",
    "#taking users input\n",
    "\n",
    "word = input(\"Enter a word = \")\n",
    "answer = \"\"\n",
    "print(\"Output:\")\n",
    "for ch in word:\n",
    "    if ch not in answer:\n",
    "        answer += ch\n",
    "    print(answer)    \n",
    " \n",
    "    "
   ]
  },
  {
   "cell_type": "markdown",
   "metadata": {},
   "source": [
    "### Task 2\n",
    "\n",
    "Write a Python program that will ask the user to enter two strings (s1, s2) as an input. Then create a mixed string with alternative characters from each string. Any leftover chars will be appended at the end of the result string.\n",
    "\n",
    "**Example 1:**\\\n",
    "Input:\\\n",
    "\"ABCD\"\\\n",
    "\"efgh\"\n",
    "\n",
    "Output:\\\n",
    "AeBfCgDh\n",
    "\n",
    "**Example 2:**\\\n",
    "Input:\\\n",
    "\"ABCDENDFGH\"\\\n",
    "\"ijkl\"\n",
    "\n",
    "Output:\\\n",
    "AiBjCkDlENDFGH\n",
    "\n",
    "**Example 3:**\\\n",
    "Input:\\\n",
    "\"ijkl\"\\\n",
    "\"ABCDENDFGH\"\n",
    "\n",
    "Output:\\\n",
    "iAjBkClDENDFGH\n",
    "\n",
    "*Hint: For adding the leftover characters use string slicing.*\n",
    "\n",
    "\n"
   ]
  },
  {
   "cell_type": "code",
   "execution_count": 102,
   "metadata": {},
   "outputs": [
    {
     "name": "stdout",
     "output_type": "stream",
     "text": [
      "Enter a string = ABCDENDFGH\n",
      "Enter another string = ijkl\n",
      "AiBjCkDlENDFGH\n"
     ]
    }
   ],
   "source": [
    "#Todo\n",
    "#taking 2 strings input\n",
    "s1 = input(\"Enter a string = \")\n",
    "s2 = input(\"Enter another string = \")\n",
    "\n",
    "new_string = \"\"\n",
    "\n",
    "for char in range(len(s1)):\n",
    "    if len(s1) < len(s2):                #conditions using for loop,if condiion and printing output.\n",
    "        minlength = len(s1)\n",
    "        new_string += s1[char] + s2[char] \n",
    "        final_string = new_string + s2[minlength:]\n",
    "\n",
    "for char in range(len(s2)):\n",
    "    if len(s1) > len(s2):\n",
    "        minlength = len(s2)\n",
    "        new_string += s1[char] + s2[char]\n",
    "        final_string = new_string + s1[minlength:]\n",
    "     \n",
    "    if len(s1) == len(s2):\n",
    "        new_string += s1[char] + s2[char]\n",
    "        final_string = new_string\n",
    "print(final_string)\n",
    "        \n",
    "\n"
   ]
  },
  {
   "cell_type": "markdown",
   "metadata": {},
   "source": [
    "### Task3\n",
    "\n",
    "Write a Python program that will ask the user to enter a  word as an input. If the length of the input string is less than 4, then your program should print the same string as an output. If the input string’s length is greater than 3, then your program should add “er” at the end of the input string. If the input string already ends with “er”, then add “est” instead. If the input string already ends with “est”, then your program should print the same string as an output.\n",
    "\n",
    "**Example 1:**\\\n",
    "Input: strong\\\n",
    "Output: stronger\n",
    "\n",
    "**Example 2:**\\\n",
    "Input: stronger\\\n",
    "Output: strongest\n",
    "\n",
    "**Example 3:**\\\n",
    "Input: strongest\\\n",
    "Output: strongest\n",
    "\n",
    "**Example 4:**\\\n",
    "Input: abc\\\n",
    "Output: abc\n"
   ]
  },
  {
   "cell_type": "code",
   "execution_count": 50,
   "metadata": {},
   "outputs": [
    {
     "name": "stdout",
     "output_type": "stream",
     "text": [
      "Enter a word = stronger\n",
      "Output: strongest\n"
     ]
    }
   ],
   "source": [
    "#Todo\n",
    "input_word = input(\"Enter a word = \")       #taking users input\n",
    "\n",
    "for letter in (input_word):\n",
    "    if len(input_word) < 4:\n",
    "        print(\"Output:\", input_word)\n",
    "        break\n",
    "    if len(input_word) > 3:\n",
    "        if \"er\" not in input_word and \"est\" not in input_word:         #conditions and printing output\n",
    "            new_word = input_word + \"er\"\n",
    "            print(\"Output:\", new_word)\n",
    "            break\n",
    "        if \"er\" in input_word:    \n",
    "            new_word = input_word.replace(\"er\" , \"est\")\n",
    "            print(\"Output:\", new_word)\n",
    "            break\n",
    "    \n",
    "    if \"est\" in input_word:\n",
    "              print(\"Output:\", input_word)\n",
    "              break\n",
    "      \n",
    "        \n",
    "        \n"
   ]
  },
  {
   "cell_type": "markdown",
   "metadata": {},
   "source": [
    "### Task4\n",
    "\n",
    "Write a Python program that will ask the user to input a string (containing exactly one word). Then print code for each character in the String using the ord() function. Use any means necessary.\n",
    "\n",
    "To check if your program is working correctly or not, you can find a list of all correct values from the following website. Look at “Dec” and “Char” columns only, ignore other columns.\\\n",
    "link: http://www.asciitable.com/\n",
    "\n",
    "**Example 1:**\\\n",
    "Input: Programming\\\n",
    "Output:\\\n",
    "P : 80\\\n",
    "r : 114\\\n",
    "o : 111\\\n",
    "g : 103\\\n",
    "r : 114\\\n",
    "a : 97\\\n",
    "m : 109\\\n",
    "m : 109\\\n",
    "i : 105\\\n",
    "n : 110\\\n",
    "g : 103\n",
    "\n",
    "**Example 2:**\\\n",
    "Input: hunger\\\n",
    "Output:\\\n",
    "h : 104\\\n",
    "u : 117\\\n",
    "n : 110\\\n",
    "g : 103\\\n",
    "e : 101\\\n",
    "r : 114 "
   ]
  },
  {
   "cell_type": "code",
   "execution_count": 31,
   "metadata": {},
   "outputs": [
    {
     "name": "stdout",
     "output_type": "stream",
     "text": [
      "Give a word = Programming\n",
      "Output:\n",
      "P : 80\n",
      "r : 114\n",
      "o : 111\n",
      "g : 103\n",
      "r : 114\n",
      "a : 97\n",
      "m : 109\n",
      "m : 109\n",
      "i : 105\n",
      "n : 110\n",
      "g : 103\n"
     ]
    }
   ],
   "source": [
    "#Todo\n",
    "#taking input from user\n",
    "word = input(\"Give a word = \")\n",
    "print(\"Output:\")\n",
    "#using for loop\n",
    "for char in word:\n",
    "    print((char), \":\" , ord(char))"
   ]
  },
  {
   "cell_type": "markdown",
   "metadata": {},
   "source": [
    "### Task5\n",
    "\n",
    "Given a word as input in small letters, print the next alphabet in sequence for each alphabet found in the input.\n",
    "\n",
    "**Example1:**\\\n",
    "Input: abcd\\\n",
    "Output: bcde\n",
    "\n",
    "**Example2:**\\\n",
    "Input: the cow\\\n",
    "Output: uif!dpx\n",
    "\n",
    "**Example3: <font color='red'>[Must fulfil this criteria]</font>**\\\n",
    "Input: xyzabc\\\n",
    "Output: yzabcd\n",
    "\n",
    "*Hint: You need to use functions ord() and chr(). The ASCII value of ‘a’ is 97 and ‘z’ is 122.*\n"
   ]
  },
  {
   "cell_type": "code",
   "execution_count": 2,
   "metadata": {},
   "outputs": [
    {
     "name": "stdout",
     "output_type": "stream",
     "text": [
      "Word= xyzabc\n",
      "Output:\n",
      "yzabcd"
     ]
    }
   ],
   "source": [
    "#Todo\n",
    "word = input(\"Word= \")      #taking users input\n",
    "print(\"Output:\")\n",
    "for char in word:\n",
    "    if ord(char) == 122:\n",
    "        char = chr(96) \n",
    "        print(chr(ord(char) + 1), end = \"\")          #using if..else condition in for loop.\n",
    "    else:   \n",
    "        #print(ord(char))\n",
    "       #print(ord(char)+1)\n",
    "       print(chr(ord(char) + 1), end = \"\")"
   ]
  },
  {
   "cell_type": "markdown",
   "metadata": {},
   "source": [
    "### Task6\n",
    "Given a string, create a new string with all the consecutive duplicates removed. \n",
    "\n",
    "**Example:**\\\n",
    "Input:\\\n",
    "AAABBBBCDDBBECE\\\n",
    "Output:\\\n",
    "ABCDBECE\n",
    "\n",
    "*Hint: You need to make a new string to store your answer. Check whether the current character and the next character are the same, then add that character to the answer.*\n",
    "\n"
   ]
  },
  {
   "cell_type": "code",
   "execution_count": 12,
   "metadata": {},
   "outputs": [
    {
     "name": "stdout",
     "output_type": "stream",
     "text": [
      "Give a word = AAABBBBCDDBBECE\n",
      "15\n",
      "index 0\n",
      "\n",
      "index 1\n",
      "\n",
      "index 2\n",
      "A\n",
      "index 3\n",
      "A\n",
      "index 4\n",
      "A\n",
      "index 5\n",
      "A\n",
      "index 6\n",
      "AB\n",
      "index 7\n",
      "ABC\n",
      "index 8\n",
      "ABC\n",
      "index 9\n",
      "ABCD\n",
      "index 10\n",
      "ABCD\n",
      "index 11\n",
      "ABCDB\n",
      "index 12\n",
      "ABCDBE\n",
      "index 13\n",
      "ABCDBEC\n",
      "index 14\n"
     ]
    },
    {
     "ename": "IndexError",
     "evalue": "string index out of range",
     "output_type": "error",
     "traceback": [
      "\u001b[1;31m---------------------------------------------------------------------------\u001b[0m",
      "\u001b[1;31mIndexError\u001b[0m                                Traceback (most recent call last)",
      "\u001b[1;32m<ipython-input-12-68b43484f8d7>\u001b[0m in \u001b[0;36m<module>\u001b[1;34m\u001b[0m\n\u001b[0;32m      7\u001b[0m \u001b[1;32mwhile\u001b[0m \u001b[0mindex\u001b[0m \u001b[1;33m<\u001b[0m \u001b[0mlen\u001b[0m\u001b[1;33m(\u001b[0m\u001b[0mword\u001b[0m\u001b[1;33m)\u001b[0m\u001b[1;33m:\u001b[0m\u001b[1;33m\u001b[0m\u001b[1;33m\u001b[0m\u001b[0m\n\u001b[0;32m      8\u001b[0m     \u001b[0mprint\u001b[0m\u001b[1;33m(\u001b[0m\u001b[1;34m\"index\"\u001b[0m\u001b[1;33m,\u001b[0m \u001b[0mindex\u001b[0m\u001b[1;33m)\u001b[0m\u001b[1;33m\u001b[0m\u001b[1;33m\u001b[0m\u001b[0m\n\u001b[1;32m----> 9\u001b[1;33m     \u001b[1;32mif\u001b[0m \u001b[0mword\u001b[0m\u001b[1;33m[\u001b[0m\u001b[0mindex\u001b[0m\u001b[1;33m]\u001b[0m \u001b[1;33m!=\u001b[0m \u001b[0mword\u001b[0m\u001b[1;33m[\u001b[0m\u001b[0mindex\u001b[0m \u001b[1;33m+\u001b[0m \u001b[1;36m1\u001b[0m\u001b[1;33m]\u001b[0m\u001b[1;33m:\u001b[0m\u001b[1;33m\u001b[0m\u001b[1;33m\u001b[0m\u001b[0m\n\u001b[0m\u001b[0;32m     10\u001b[0m     \u001b[1;31m#if ord(chr(index)) != ord(chr(index + 1)):\u001b[0m\u001b[1;33m\u001b[0m\u001b[1;33m\u001b[0m\u001b[1;33m\u001b[0m\u001b[0m\n\u001b[0;32m     11\u001b[0m         \u001b[0manswer\u001b[0m \u001b[1;33m=\u001b[0m \u001b[0manswer\u001b[0m \u001b[1;33m+\u001b[0m  \u001b[0mword\u001b[0m\u001b[1;33m[\u001b[0m\u001b[0mindex\u001b[0m\u001b[1;33m]\u001b[0m\u001b[1;33m\u001b[0m\u001b[1;33m\u001b[0m\u001b[0m\n",
      "\u001b[1;31mIndexError\u001b[0m: string index out of range"
     ]
    }
   ],
   "source": [
    "#Todo\n",
    "#taking input from user\n",
    "word = input(\"Give a word = \")\n",
    "index = 0\n",
    "answer = \"\"\n",
    "print(len(word)) \n",
    "while index < len(word):\n",
    "    print(\"index\", index)\n",
    "    if word[index] != word[index + 1]:\n",
    "    #if ord(chr(index)) != ord(chr(index + 1)):      \n",
    "        answer = answer +  word[index]\n",
    "    index += 1\n",
    "    print(answer)       \n",
    "\n",
    "  #for ch in word:\n",
    "    #if word[ch] != index:\n",
    "        #answer += ch\n",
    "    #index += 1    \n",
    "#print(answer)#"
   ]
  },
  {
   "cell_type": "markdown",
   "metadata": {},
   "source": [
    "## Part 2: List\n"
   ]
  },
  {
   "cell_type": "markdown",
   "metadata": {},
   "source": [
    "### Task 7\n",
    "Write a Python program that reads 10 numbers from the user. After reading each number, print all the numbers that have been entered so far. \n",
    "\n",
    "**Example:**\\\n",
    "After the user enters 3, prints “So far in the list: [3]”\\\n",
    "After the user enters 5, prints “So far in the list: [3, 5]”\\\n",
    "After the user enters 34, prints “So far in the list: [3, 5, 34]”\n"
   ]
  },
  {
   "cell_type": "code",
   "execution_count": 51,
   "metadata": {},
   "outputs": [
    {
     "name": "stdout",
     "output_type": "stream",
     "text": [
      "Enter a limit = 10\n",
      "Give number = 1\n",
      "So far in the list: [1]\n",
      "Give number = 2\n",
      "So far in the list: [1, 2]\n",
      "Give number = 3\n",
      "So far in the list: [1, 2, 3]\n",
      "Give number = 4\n",
      "So far in the list: [1, 2, 3, 4]\n",
      "Give number = 5\n",
      "So far in the list: [1, 2, 3, 4, 5]\n",
      "Give number = 6\n",
      "So far in the list: [1, 2, 3, 4, 5, 6]\n",
      "Give number = 7\n",
      "So far in the list: [1, 2, 3, 4, 5, 6, 7]\n",
      "Give number = 8\n",
      "So far in the list: [1, 2, 3, 4, 5, 6, 7, 8]\n",
      "Give number = 9\n",
      "So far in the list: [1, 2, 3, 4, 5, 6, 7, 8, 9]\n",
      "Give number = 10\n",
      "So far in the list: [1, 2, 3, 4, 5, 6, 7, 8, 9, 10]\n"
     ]
    }
   ],
   "source": [
    "#Todo\n",
    "#taking limit from user\n",
    "number = int(input(\"Enter a limit = \"))\n",
    "\n",
    "#empty list \n",
    "\n",
    "list1 = []\n",
    "#for loop\n",
    "for num in range(number):\n",
    "    user_input = int(input(\"Give number = \"))\n",
    "    list1.append(user_input)\n",
    "    print(\"So far in the list:\", list1)"
   ]
  },
  {
   "cell_type": "markdown",
   "metadata": {},
   "source": [
    "### Task 8\n",
    "Assume, you have been given a list.\n",
    "\n",
    "a_list =  [10, 20, 24, 25, 26, 35, 70]\n",
    "\n",
    "Write a Python program that creates a new list excluding the first and last two elements of the given list and prints the new list. \n",
    "\n",
    "Output: [24, 25, 26]\n",
    "\n",
    "\n",
    "*Hint:You need to use list slicing.*\n"
   ]
  },
  {
   "cell_type": "code",
   "execution_count": 1,
   "metadata": {},
   "outputs": [
    {
     "name": "stdout",
     "output_type": "stream",
     "text": [
      "Output: [24, 25, 26]\n"
     ]
    }
   ],
   "source": [
    "#Todo\n",
    "#Given list\n",
    "a_list = [10, 20, 24, 25, 26, 35, 70]\n",
    "##       0    1   2  3    4    5  6\n",
    "\n",
    "print(\"Output:\", a_list[2:5])"
   ]
  },
  {
   "cell_type": "markdown",
   "metadata": {},
   "source": [
    "### Task 9\n",
    "Assume, you have been given two lists. \n",
    "\n",
    "list_one = [1, 2, 3, 4, 5, 6, 7, 8, 9]\\\n",
    "list_two = [10, 11, 12, -13, -14, -15, -16]\n",
    "\n",
    "Write a Python program that creates a new list with all the even elements of both of the given lists and prints the new list.\n",
    "\n",
    "\n",
    "Output: [2, 4, 6, 8, 10, 12, -14, -16]\n",
    "\n",
    "*Hint: You need to create a third list to store the even elements of the given lists.*\n",
    "\n"
   ]
  },
  {
   "cell_type": "code",
   "execution_count": 24,
   "metadata": {},
   "outputs": [
    {
     "name": "stdout",
     "output_type": "stream",
     "text": [
      "Output: [2, 4, 6, 8, 10, 12, -14, -16]\n"
     ]
    }
   ],
   "source": [
    "#Todo\n",
    "#given lists\n",
    "\n",
    "list_one = [1, 2, 3, 4, 5, 6, 7, 8, 9]\n",
    "list_two = [10, 11, 12, -13, -14, -15, -16]\n",
    "\n",
    "list_3 = []\n",
    "\n",
    "for elem in list_one:\n",
    "    if elem % 2 == 0:\n",
    "        list_3.append(elem)          #conditions for even.\n",
    "        print(end = \"\")\n",
    "for elem in list_two:\n",
    "    if elem % 2 == 0:\n",
    "        list_3.append(elem)\n",
    "        print(end = \"\")\n",
    "print(\"Output:\", list_3)    "
   ]
  },
  {
   "cell_type": "markdown",
   "metadata": {},
   "source": [
    "### Task 10\n",
    "\n",
    "Assume, you have been given two lists.\\\n",
    "list_one = [1, 2 , 2, 4, 5, 5, 7, 99, 200, 303, 70]\\\n",
    "list_two = [1, 1, 2, 3, 3, 3, 4, 5, 200, 500, -5]\n",
    "\n",
    "Write a Python program that creates a new list with all the unique elements of both the given lists. You make sure no duplicates are in the result list and finally print the result list.\n",
    "\n",
    "Output: \n",
    "[1, 2, 4, 5, 7, 99, 200, 303, 70, 3, 500, -5]\n",
    "\n",
    "*Hint:You need to create a third list to store the results. Use membership operators (in, not in) to make sure no duplicates are added.*\n",
    "\n"
   ]
  },
  {
   "cell_type": "code",
   "execution_count": 28,
   "metadata": {},
   "outputs": [
    {
     "name": "stdout",
     "output_type": "stream",
     "text": [
      "OUtput: [1, 2, 4, 5, 7, 99, 200, 303, 70, 3, 500, -5]\n"
     ]
    }
   ],
   "source": [
    "#Todo\n",
    "#given lists\n",
    "\n",
    "list_one = [1, 2 , 2, 4, 5, 5, 7, 99, 200, 303, 70]\n",
    "list_two = [1, 1, 2, 3, 3, 3, 4, 5, 200, 500, -5]\n",
    "\n",
    "list_three = list_one + list_two\n",
    "\n",
    "unique_list = []\n",
    "\n",
    "for elem in list_three:\n",
    "    if elem not in unique_list:\n",
    "        unique_list.append(elem)\n",
    "print(\"OUtput:\", unique_list)\n"
   ]
  },
  {
   "cell_type": "markdown",
   "metadata": {},
   "source": [
    "### Task 11\n",
    "\n",
    "Write a Python program that reads 5 numbers into a list and prints the largest number and its location on the list. <font color='red'>[You are not allowed to use the max() function here]</font>\n",
    "\n",
    "**Example:**\\\n",
    "Input: 7, 13, 2, 10, 6\\\n",
    "Output:\\\n",
    "“list: [7, 13, 2, 10, 6]”\\\n",
    "“Largest number 13 was found at location 1”.\n",
    "\n",
    "*Hint: Assume, the first input to be the largest value initially and the location of first input which is 0 to be the initial value of the largest value’s location.\n",
    "You need to be careful while printing the output. Depending on your code might need data conversion.*\n"
   ]
  },
  {
   "cell_type": "code",
   "execution_count": 16,
   "metadata": {},
   "outputs": [
    {
     "name": "stdout",
     "output_type": "stream",
     "text": [
      "Enter a number = 5\n",
      "Enter a number = 7\n",
      "Enter a number = 13\n",
      "Enter a number = 2\n",
      "Enter a number = 10\n",
      "Enter a number = 6\n",
      "list: [7, 13, 2, 10, 6]\n",
      "Largest number is 13 was found at location  1\n"
     ]
    }
   ],
   "source": [
    "### Todo\n",
    "#taking limit from user\n",
    "number = int(input(\"Enter a number = \"))\n",
    "list1 = []\n",
    "largest = 0\n",
    "#location = 0\n",
    "\n",
    "for num in range(0,number):\n",
    "    in_put = int(input(\"Enter a number = \"))\n",
    "    \n",
    "    list1.append(in_put)\n",
    "    \n",
    "    \n",
    "    for elem in list1:\n",
    "            if elem > largest:\n",
    "                largest = elem\n",
    "                #location += 1\n",
    "                \n",
    "print(\"list:\", list1)\n",
    "#print(\"Largest number is\", largest , \"was found at location \", location)\n",
    "\n",
    "print(\"Largest number is\", largest , \"was found at location \", (list1.index(largest)))"
   ]
  },
  {
   "cell_type": "markdown",
   "metadata": {},
   "source": [
    "# Task 12\n",
    "\n",
    "Write a Python program that reads 5 numbers into a list and prints the smallest and largest number and their location in the list. <font color='red'>[You are not allowed to use the max() and min() function here]</font>\n",
    "\n",
    "**Example:**\\\n",
    "If the user enters 7, 13, -5, 10, 6 then your program should print\\\n",
    "“list: [7, 13, -5, 10, 6]”\\\n",
    "“Smallest number -5 was found at location 2”.\\\n",
    "“Largest number 13 was found at location 1”.\n",
    "\n",
    "*Hint: Assume, the first input to be the largest value and the location of the first input which is 0 to be the initial value of the largest value’s location. Similarly, assume the first input to be the smallest value and the location of the first input which is 0 to be the initial value of the smallest value’s location.\n",
    "You need to be careful while printing the output. Depending on your code might need data conversion.*\n"
   ]
  },
  {
   "cell_type": "code",
   "execution_count": 6,
   "metadata": {},
   "outputs": [
    {
     "name": "stdout",
     "output_type": "stream",
     "text": [
      "Enter a number = 5\n",
      "Enter a number = 7\n",
      "Enter a number = 13\n",
      "Enter a number = -5\n",
      "Enter a number = 10\n",
      "Enter a number = 6\n",
      "list: [7, 13, -5, 10, 6]\n",
      "Largest number is 13 was found at location  1\n",
      "Smallest number is -5 was found at location  2\n"
     ]
    }
   ],
   "source": [
    "#Todo\n",
    "#taking users input\n",
    "\n",
    "number = int(input(\"Enter a number = \"))\n",
    "list1 = []\n",
    "largest = 0\n",
    "smallest = 0\n",
    "max_location = 0\n",
    "min_location = 0\n",
    "\n",
    "for num in range(number):                           #using for loop\n",
    "    in_put = int(input(\"Enter a number = \"))\n",
    "    list1.append(in_put)\n",
    "                                                \n",
    "    for elem in list1:\n",
    "            if elem > largest:\n",
    "                largest = elem\n",
    "            if elem < smallest:\n",
    "                smallest = elem\n",
    "                \n",
    "print(\"list:\", list1)\n",
    "print(\"Largest number is\", largest , \"was found at location \", (list1.index(largest)))\n",
    "print(\"Smallest number is\", smallest , \"was found at location \", (list1.index(smallest)))\n"
   ]
  }
 ],
 "metadata": {
  "kernelspec": {
   "display_name": "Python 3",
   "language": "python",
   "name": "python3"
  },
  "language_info": {
   "codemirror_mode": {
    "name": "ipython",
    "version": 3
   },
   "file_extension": ".py",
   "mimetype": "text/x-python",
   "name": "python",
   "nbconvert_exporter": "python",
   "pygments_lexer": "ipython3",
   "version": "3.7.6"
  }
 },
 "nbformat": 4,
 "nbformat_minor": 4
}
