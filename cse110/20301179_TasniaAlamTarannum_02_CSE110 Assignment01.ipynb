{
 "cells": [
  {
   "cell_type": "markdown",
   "metadata": {},
   "source": [
    "# CSE110 Assignment 1\n",
    "\n",
    "This assignment is to guide you to solve basic programming problems in Python. Since this is the first assignment, the first problem is solved for you with explanations. Some problems are partially solved to help you. Go through them, try to understand and question each statment of the following questions and codes. If you can understand the problems and the solutions, solving more difficult problems would not seem so difficult. \n",
    "\n",
    "## Write the Python code of the following problems:\n"
   ]
  },
  {
   "cell_type": "markdown",
   "metadata": {},
   "source": [
    "### Task 1\n",
    "\n",
    "Write Python code of a program that reads two numbers from the user, and prints their sum, product, and difference.\n",
    "\n",
    "\n",
    "*hint: Subtract the second number from the first one*\n",
    "\n",
    "For your explanation, the first question's code is done below. Try relating the block of code with the lesson you have learned and understand the significance of each line. You're most welcome to play around with the code. This will strengthen your understanding.\n"
   ]
  },
  {
   "cell_type": "code",
   "execution_count": 4,
   "metadata": {},
   "outputs": [
    {
     "name": "stdout",
     "output_type": "stream",
     "text": [
      "Please Enter Your First Number3\n",
      "Please Enter Your Second Number4\n",
      "<class 'str'>\n",
      "<class 'str'>\n",
      "Sum is 7\n",
      "Product is 12\n",
      "Difference is 1\n"
     ]
    }
   ],
   "source": [
    "### Take input of 2 numbers from the user\n",
    "var_1 = input('Please Enter Your First Number')\n",
    "var_2 = input('Please Enter Your Second Number')\n",
    "\n",
    "#Since input() function converts everything to String,\n",
    "#for performing any kind of mathematical operation you need to convert them to int.\n",
    "#For this conversion, we need to use int() function\n",
    "\n",
    "\n",
    "# First, let's clarify whether the inputs are actually Strings or not. \n",
    "print(type(var_1))\n",
    "print(type(var_2))\n",
    "\n",
    "\n",
    "# Convert Strings to integer using the int() function\n",
    "var_3 = int(var_1)\n",
    "var_4 = int(var_2)\n",
    "\n",
    "# Perform Addition\n",
    "sum = var_3 + var_4\n",
    "\n",
    "# Perform Multiplication \n",
    "product = var_3 * var_4\n",
    "\n",
    "# Perform Substraction \n",
    "difference = var_4 - var_3\n",
    "\n",
    "# Print all the calculated results\n",
    "print(\"Sum is\", sum)\n",
    "print(\"Product is\", product)\n",
    "print(\"Difference is\", difference)\n"
   ]
  },
  {
   "cell_type": "markdown",
   "metadata": {},
   "source": [
    "### Task 2\n",
    "\n",
    "Write Python code of a program that reads the radius of a circle and prints its circumference and area.\n",
    "\n",
    "*hint: import math and then use math.pi for getting the value of pi. \n",
    "For details read from https://docs.python.org/3/library/math.html*\n",
    "\n",
    "**Example:**\\\n",
    "Input: 4\\\n",
    "Output:\\\n",
    "Area is 50.26548245743669\\\n",
    "Circumference is 25.132741228718345\n",
    "\n",
    "Input: 3.5\\\n",
    "Output:\\\n",
    "Area is 38.48451000647496\\\n",
    "Circumference is 21.991148575128552\n"
   ]
  },
  {
   "cell_type": "code",
   "execution_count": 27,
   "metadata": {},
   "outputs": [
    {
     "name": "stdout",
     "output_type": "stream",
     "text": [
      "Let , value of pi is ,  3.141592653589793\n",
      "Radius of circle = 4\n",
      "Input:  4.0\n",
      "Output:\n",
      "Area of the circle is 50.26548245743669\n",
      "Circumference of the circle is 25.132741228718345\n"
     ]
    }
   ],
   "source": [
    "import math\n",
    "#Todo\n",
    "\n",
    "# We need pi for calcutating circles area and circumference\n",
    "\n",
    "pi_value = math.pi\n",
    "\n",
    "print(\"Let , value of pi is , \" , pi_value)\n",
    "\n",
    "### For circle\n",
    "\n",
    "radius = float(input(\"Radius of circle = \"))\n",
    "\n",
    "print(\"Input: \" , radius)\n",
    "\n",
    "# Formula of area of circle                                   \n",
    "\n",
    "area = (pi_value * radius ** 2)\n",
    "\n",
    "#Circumference of circle\n",
    "\n",
    "circumference = (2 * pi_value * radius)\n",
    "\n",
    "\n",
    "#Printing all values \n",
    "\n",
    "print(\"Output:\" )\n",
    "\n",
    "print(\"Area of the circle is\" , area)\n",
    "\n",
    "print(\"Circumference of the circle is\" , circumference)\n"
   ]
  },
  {
   "cell_type": "markdown",
   "metadata": {},
   "source": [
    "### Task 3\n",
    "\n",
    "Write Python code of a program that reads two numbers from the user. Your program should then print “First is greater” if the first number is greater, “Second is greater” if the second number is greater, and “The numbers are equal” otherwise."
   ]
  },
  {
   "cell_type": "code",
   "execution_count": 56,
   "metadata": {},
   "outputs": [
    {
     "name": "stdout",
     "output_type": "stream",
     "text": [
      "Enter your first number, 55\n",
      "Enter your second number, 44\n",
      "First is greater\n",
      "Code end\n"
     ]
    }
   ],
   "source": [
    "#Todo\n",
    "#lets consider two numbers from user \n",
    "\n",
    "firstnum = input(\"Enter your first number, \")\n",
    "\n",
    "secondnum = input(\"Enter your second number, \")\n",
    "\n",
    "#Here we have to use if..elif..else condition\n",
    "\n",
    "if (firstnum > secondnum): \n",
    "    print(\"First is greater\")\n",
    "elif (firstnum < secondnum): \n",
    "    print(\"Second is greater\")\n",
    "else:\n",
    "    print(\"The numbers are equal\")\n",
    "    \n",
    "print(\"Code end\")    "
   ]
  },
  {
   "cell_type": "markdown",
   "metadata": {},
   "source": [
    "### Task 4\n",
    "\n",
    "Write Python code of a program that reads two numbers, subtracts the smaller number from the larger one, and prints the result.\n",
    "\n",
    "*hint: First check which number is greater*\n"
   ]
  },
  {
   "cell_type": "code",
   "execution_count": 8,
   "metadata": {},
   "outputs": [
    {
     "name": "stdout",
     "output_type": "stream",
     "text": [
      "Enter first number = 39\n",
      "Enter second number = 79\n",
      "Second number is larger\n",
      "Now, \n",
      "Difference is  40\n"
     ]
    }
   ],
   "source": [
    "#Todo\n",
    "\n",
    "#Considering two numbers \n",
    "#We convert data types into integers as input() function converted them into strings.\n",
    "\n",
    "first_number = int(input(\"Enter first number = \"))\n",
    "second_number = int(input(\"Enter second number = \"))\n",
    "\n",
    "#using if..else condition,\n",
    "\n",
    "if (first_number > second_number):\n",
    "    print(\"First number is larger\")\n",
    "    \n",
    "    difference = first_number - second_number                 #Subtracting smaller one from larger one \n",
    "\n",
    "    \n",
    "else:\n",
    "    print(\"Second number is larger\")\n",
    "    \n",
    "    difference = second_number - first_number                  #Subtracting smaller one from larger one \n",
    "    \n",
    "print(\"Now, \")    \n",
    "    \n",
    "\n",
    "#Printing the difference,\n",
    "\n",
    "print(\"Difference is \" , difference)\n"
   ]
  },
  {
   "cell_type": "markdown",
   "metadata": {},
   "source": [
    "### Task 5\n",
    "\n",
    "Write Python code of a program that reads a number, and prints “The number is even” or “The number is odd”, depending on whether the number is even or odd. \n",
    "\n",
    "*hint: use the modulus (%) operator*\n"
   ]
  },
  {
   "cell_type": "code",
   "execution_count": 62,
   "metadata": {},
   "outputs": [
    {
     "name": "stdout",
     "output_type": "stream",
     "text": [
      "Enter your desired number = 67\n",
      "The number is odd\n",
      "Thank you.\n"
     ]
    }
   ],
   "source": [
    "#Todo\n",
    "\n",
    "#Lets take a number\n",
    "#We converted number into integer using int() function as input() function converts everything into string .\n",
    "\n",
    "num_ber = int(input(\"Enter your desired number = \"))\n",
    "\n",
    "\n",
    "#We will use if..else condition \n",
    "#Modulus operator will let us know whether number is even or odd.\n",
    "\n",
    "\n",
    "if (num_ber % 2 == 0):\n",
    "    print(\"The number is even\")\n",
    "else:\n",
    "    print(\"The number is odd\")\n",
    "\n",
    "print(\"Thank you.\")    "
   ]
  },
  {
   "cell_type": "markdown",
   "metadata": {},
   "source": [
    "### Task 6\n",
    "\n",
    "Write Python code of a program that reads an integer, and prints the integer if it is a multiple of **either 2 or 5.**\n",
    "\n",
    "For example, 2, 4, 5, 6, 8, 10, 12, 14, 15, 16, 18, 20, 22 …\n",
    "\n"
   ]
  },
  {
   "cell_type": "code",
   "execution_count": 74,
   "metadata": {},
   "outputs": [
    {
     "name": "stdout",
     "output_type": "stream",
     "text": [
      "Enter the integer = 40\n",
      "The multiple of either 2 or 5 is  40\n",
      "Thank you.\n"
     ]
    }
   ],
   "source": [
    "#Todo\n",
    "\n",
    "#consider a number \n",
    "#Converting str() function into int() function\n",
    "\n",
    "number = int(input(\"Enter the integer = \"))\n",
    "\n",
    "\n",
    "#Using if..else condition , logical operator OR & modulus operator ,\n",
    "\n",
    "\n",
    "if ((number % 2 == 0) or (number % 5 == 0)):\n",
    "     print(\"The multiple of either 2 or 5 is \" , number) \n",
    "else: \n",
    "     print(\"Not a multiple of 2 or 5.Try another number.\")\n",
    "\n",
    "print(\"Thank you.\")      "
   ]
  },
  {
   "cell_type": "markdown",
   "metadata": {},
   "source": [
    "### Task 7\n",
    "Write Python code of a program that reads an integer, and prints the integer  it is a multiple of **either 2 or 5 but not both.** \n",
    "\n",
    "For example, 2, 4, 5, 6, 8, 12, 14, 15, 16, 18, 22 …\n"
   ]
  },
  {
   "cell_type": "code",
   "execution_count": 13,
   "metadata": {},
   "outputs": [
    {
     "name": "stdout",
     "output_type": "stream",
     "text": [
      "Enter the integer = 12\n",
      "The multiple of either 2 or 5 but not both is 12\n"
     ]
    }
   ],
   "source": [
    "#Todo\n",
    "\n",
    "\n",
    "#Let us choose a number \n",
    "#Here input() function converted number into string. Converting str() function into int() function\n",
    "\n",
    "number = int(input(\"Enter the integer = \"))\n",
    "\n",
    "#Using if..else condition,,\n",
    "\n",
    "\n",
    "if ((number % 2 == 0) or (number % 5 == 0)):\n",
    "    \n",
    "        if ((number % 2 == 0) and (number % 5 == 0)):\n",
    "            \n",
    "            print(\"Sorry.Try another number.\")\n",
    "        else:\n",
    "             print(\"The multiple of either 2 or 5 but not both is\" , number )\n",
    "else:\n",
    "      print(\"Thank you.\")     "
   ]
  },
  {
   "cell_type": "markdown",
   "metadata": {},
   "source": [
    "### Task 8\n",
    "Write Python code of a program that reads an integer, and prints the integer if it is a multiple of **2 and 5.**\n",
    "\n",
    "For example, 10, 20, 30, 40, 50 …\n",
    "\n"
   ]
  },
  {
   "cell_type": "code",
   "execution_count": 16,
   "metadata": {},
   "outputs": [
    {
     "name": "stdout",
     "output_type": "stream",
     "text": [
      "Enter the integer = 30\n",
      "The multiple of 2 and 5 is 30\n"
     ]
    }
   ],
   "source": [
    "#Todo\n",
    "\n",
    "#Let us choose a number \n",
    "#Here input() function converted number into string. Converting str() function into int() function\n",
    "\n",
    "number = int(input(\"Enter the integer = \"))\n",
    "\n",
    "#Using if..else condition,,\n",
    "\n",
    "\n",
    "if ((number % 2 == 0) and (number % 5 == 0)):\n",
    "    \n",
    "     print(\"The multiple of 2 and 5 is\" , number )\n",
    "\n",
    "        \n",
    "else:\n",
    "      print(\"Try something new.\")    \n"
   ]
  },
  {
   "cell_type": "markdown",
   "metadata": {},
   "source": [
    "### Task 9\n",
    "\n",
    "\n",
    "Write Python code of a program that reads an integer, and prints the integer if it is a multiple of **NEITHER 2 NOR 5.** \n",
    "\n",
    "For example, 1, 3, 7, 9, 11, 13, 17, 19, 21, 23, 27, 29, 31, 33, 37, 39 …\n"
   ]
  },
  {
   "cell_type": "code",
   "execution_count": 22,
   "metadata": {},
   "outputs": [
    {
     "name": "stdout",
     "output_type": "stream",
     "text": [
      "Enter the integer = 23\n",
      "The multiple of neither 2 nor 5  is 23\n"
     ]
    }
   ],
   "source": [
    "#Todo\n",
    "\n",
    "\n",
    "#Let us choose a number \n",
    "#Here input() function converted number into string. Converting str() function into int() function\n",
    "\n",
    "number = int(input(\"Enter the integer = \"))\n",
    "\n",
    "#Using if..else condition,,\n",
    "\n",
    "\n",
    "if (not((number % 2 == 0) or (number % 5 == 0))):\n",
    "    \n",
    "    print(\"The multiple of neither 2 nor 5  is\" , number )\n",
    "\n",
    "    \n",
    "else:\n",
    "      print(\"Please input another number.\")    "
   ]
  },
  {
   "cell_type": "markdown",
   "metadata": {},
   "source": [
    "### Task 10\n",
    "\n",
    "Write Python code of a program that reads an integer, and prints the integer if it is **NOT a multiple of 2** OR **NOT a multiple of 5.**\n",
    "\n",
    "For example, 1, 2, 3, 4, 5, 6, 7, 8, 9, 11, 12, 13, 14, 15, 16, 17, 18, 19, 21, 22\n"
   ]
  },
  {
   "cell_type": "code",
   "execution_count": 26,
   "metadata": {},
   "outputs": [
    {
     "name": "stdout",
     "output_type": "stream",
     "text": [
      "Enter the integer = 15\n",
      "NOT a multiple of 2 OR NOT a multiple of 5 is 15\n"
     ]
    }
   ],
   "source": [
    "#Todo\n",
    "\n",
    "#Let us choose a number \n",
    "#Here input() function converted number into string. Converting str() function into int() function\n",
    "\n",
    "number = int(input(\"Enter the integer = \"))\n",
    "\n",
    "#Using if..else condition,,\n",
    "\n",
    "\n",
    "if (not((number % 2 == 0)) or (not(number % 5 == 0))):\n",
    "    \n",
    "    print(\"NOT a multiple of 2 OR NOT a multiple of 5 is\" , number )\n",
    "\n",
    "    \n",
    "else:\n",
    "      print(\"Please input another number.\")    "
   ]
  },
  {
   "cell_type": "markdown",
   "metadata": {},
   "source": [
    "### Task 11\n",
    "\n",
    "Write Python code of a program that reads a student’s mark for a single subject, and prints out the corresponding grade for that mark. The mark ranges and corresponding grades are shown in the table below.\n",
    "\n",
    "*hint: This problem can be solved in two ways: top-down (starts from A) and bottom-up (starts from F)*\n",
    "\n",
    "\n",
    "| Marks | Grage|\n",
    "| --- | --- | \n",
    "|90 or above| A |\n",
    "|  |  | \n",
    "|80-89| B |\n",
    "|  |  | \n",
    "|70-79| C |\n",
    "|  |  | \n",
    "|60-69| D |\n",
    "|  |  | \n",
    "|50-59| E |\n",
    "|  |  | \n",
    "|Below 50| F |\n",
    "\n",
    "\n",
    "\n",
    "\n",
    "\n"
   ]
  },
  {
   "cell_type": "code",
   "execution_count": 24,
   "metadata": {},
   "outputs": [
    {
     "name": "stdout",
     "output_type": "stream",
     "text": [
      "Obtained marks = 99\n",
      "Grade A\n"
     ]
    }
   ],
   "source": [
    "#Todo\n",
    "\n",
    "#We are taking user input of marks\n",
    "\n",
    "marks = int(input(\"Obtained marks = \"))\n",
    "\n",
    "#Using if..elif..else condition,,,\n",
    "\n",
    "if ((marks <= 100) and (marks >= 0)):\n",
    "        if (marks >= 90): \n",
    "                print(\"Grade A\")\n",
    "        \n",
    "        elif ((marks >= 80) and (marks <= 89)):\n",
    "                 print(\"Grade B\")\n",
    "        \n",
    "        elif ((marks >= 70) and (marks <= 79)): \n",
    "                print(\"Grade C\")\n",
    "        \n",
    "        elif ((marks >= 60) and (marks <= 69)):\n",
    "                print(\"Grade D\")\n",
    "        \n",
    "        elif ((marks >= 50) and (marks <= 59)):\n",
    "                print(\"Grade E\")\n",
    "                \n",
    "        else:\n",
    "              print(\"Grade F\")\n",
    "else:\n",
    "          print(\"Invalid number\")"
   ]
  },
  {
   "cell_type": "markdown",
   "metadata": {},
   "source": [
    "### Task 12\n",
    "\n",
    "Write Python code of a program to compute and display a person’s weekly salary as determined by the following conditions:\n",
    "If the hours worked are less than or equal to 40, the person receives Tk200.00 per hour, else the person receives Tk8000.00 plus Tk300.00 for each hour worked over 40 hours.\n",
    "The program should request the hours worked as input and should display the salary as output.\n",
    "\n",
    "**example1:**\\\n",
    "Input: 100\\\n",
    "Output: 26000\n",
    "\n",
    "**example2:**\\\n",
    "Input: 30\\\n",
    "Output: 6000\n"
   ]
  },
  {
   "cell_type": "code",
   "execution_count": 24,
   "metadata": {},
   "outputs": [
    {
     "name": "stdout",
     "output_type": "stream",
     "text": [
      "Enter the hour worked = 100\n",
      "Input: 100\n",
      "Output: 26000.0\n",
      "END\n"
     ]
    }
   ],
   "source": [
    "#Todo\n",
    "#Let the user input working hours\n",
    "\n",
    "hours = int(input(\"Enter the hour worked = \"))\n",
    "\n",
    "print(\"Input:\" , hours)\n",
    "\n",
    "#Calculating the salary,,,\n",
    "\n",
    "if ((hours <= 40) and (hours > 0)):\n",
    "    \n",
    "    salary1 = hours * 200.00\n",
    "\n",
    "    print(\"Output:\" , salary1)\n",
    "else:\n",
    "    extra_hour = hours - 40 \n",
    "    \n",
    "    salary2 = 8000.00 + extra_hour * 300.00\n",
    "    \n",
    "    print(\"Output:\" , salary2)\n",
    "    \n",
    "print(\"END\")    "
   ]
  },
  {
   "cell_type": "markdown",
   "metadata": {},
   "source": [
    "### Task 13\n",
    "Write Python code of a program that finds the number of hours, minutes, and seconds in a **given number of seconds.** \n",
    "\n",
    "**Example:**\\\n",
    "Input: 10000 seconds\\\n",
    "Output: 2 Hours 46 minutes, 40 seconds\n",
    "\n",
    "*hints: 1 hour = 60 mins = 3600 seconds*\\\n",
    "*1min = 60 seconds* \n",
    "\n",
    "\n",
    "\n",
    "\n"
   ]
  },
  {
   "cell_type": "code",
   "execution_count": 33,
   "metadata": {},
   "outputs": [
    {
     "name": "stdout",
     "output_type": "stream",
     "text": [
      "Input seconds = 10000\n",
      "Output:\n",
      "2 Hours 46 minutes 40 seconds\n"
     ]
    }
   ],
   "source": [
    "#Todo\n",
    "\n",
    "#At first lets take users input\n",
    "\n",
    "your_seconds = int(input(\"Input seconds = \"))\n",
    "\n",
    "\n",
    "#lets see how many hour we get\n",
    " \n",
    "hour = your_seconds // 3600\n",
    "\n",
    "#print(hour , \"Hour\")\n",
    "\n",
    "#Lets find out remaining seconds\n",
    "\n",
    "remaining_second = your_seconds - hour * 3600 \n",
    "\n",
    "\n",
    "#Lets calculate the minutes from remaining second as well the left over seconds\n",
    "\n",
    "minutes = remaining_second // 60\n",
    "\n",
    "#print(minutes , \"minutes\")    \n",
    "\n",
    "\n",
    "seconds = remaining_second % 60\n",
    "\n",
    "#print(seconds , \"seconds\")\n",
    "\n",
    "print(\"Output:\")\n",
    "\n",
    "print(hour , \"Hours\" , minutes , \"minutes\" , seconds , \"seconds\")"
   ]
  },
  {
   "cell_type": "markdown",
   "metadata": {},
   "source": [
    "### Task 14\n",
    "Suppose the following expressions are used to calculate the values of L for different values of S:\n",
    "\n",
    "$L =  3000-125S^2$ \n",
    "if     $S<100$\n",
    "\n",
    "$ L =  \\frac{12000}{4+S^2/14900}$\n",
    "if     $S\\geq100$\n",
    "\n",
    "Write a Python code of a program that reads a value of S and then calculates the value of L.\n",
    "\n",
    "For example:\\\n",
    "If S=3, L= 1875.\\\n",
    "If S=120, L= 2416.2162162162163\n",
    "\n",
    "\n",
    "*hints: You can import math and use math function for making squares math.pow(number, power)   Or you can simply write S**2.*"
   ]
  },
  {
   "cell_type": "code",
   "execution_count": 47,
   "metadata": {},
   "outputs": [
    {
     "name": "stdout",
     "output_type": "stream",
     "text": [
      "Enter value of s = 120\n",
      "Value of L is  2416.2162162162163\n"
     ]
    }
   ],
   "source": [
    "#Todo\n",
    "\n",
    "#Lets take a value for S\n",
    "\n",
    "s = int(input(\"Enter value of s = \" ))\n",
    "\n",
    "#imposing if..elif..else condition \n",
    "\n",
    "if (s < 100):\n",
    "    \n",
    "    L = (3000 - 125 * s ** 2) \n",
    "        \n",
    "    print(\"Value of L is \" , L)        \n",
    "\n",
    "elif (s >= 100):\n",
    "    \n",
    "    L = (12000 / (4 + s ** 2 / 14900))\n",
    "    \n",
    "    print(\"Value of L is \" , L )\n",
    "    \n",
    "else: \n",
    "    print(\"Try a new number.\")"
   ]
  },
  {
   "cell_type": "markdown",
   "metadata": {},
   "source": [
    "### Task 15\n",
    "\n",
    "Take an hour from the user as input and tell it is time for which meal.\n",
    "\n",
    "•\tThe user will input the number in a 24-hour format. So, 14 means 2 pm, 3 means 3 am, 18 means 6 pm, etc.\\\n",
    "•\tValid inputs are 0 to 23. Inputs less than 0 or more than 23 are invalid in 24-hour clock.\\\n",
    "•\tAssume, Input will be whole numbers. For example, 3.5 will NOT be given as input.\n",
    "\n",
    "Inputs: Message to be printed\\\n",
    "4 to 6: Breakfast\\\n",
    "12 to 13: Lunch\\\n",
    "16 to 17: Snacks\\\n",
    "19 to 20: Dinner\\\n",
    "For all other valid inputs, say \"Patience is a virtue\"\\\n",
    "For all other invalid inputs, say \"Wrong time\"\n",
    "\n",
    "For example,\\\n",
    "If the user enters 4, your program should print the message \"Breakfast\".\\\n",
    "If the user enters 5, your program should print the message \"Breakfast\".\\\n",
    "If the user enters 6, your program should print the message \"Breakfast\".\\\n",
    "If the user enters 0, your program should print the message \"Patience is a virtue\".\\\n",
    "If the user enters 1, your program should print the message \"Patience is a virtue\".\\\n",
    "If the user enters 18, your program should print the message \"Patience is a virtue\".\\\n",
    "If the user enters 23, your program should print the message \"Patience is a virtue\".\\\n",
    "If the user enters 24, your program should print the message \"Wrong Time\".\\\n",
    "If the user enters -1, your program should print the message \"Wrong Time\".\\\n",
    "If the user enters 27, your program should print the message \"Wrong time\".\n",
    "\n",
    "Hints:\\\n",
    "You can use nested conditionals (if-else) or chained conditions (if-elif-else) to solve this problem.\n",
    "\n"
   ]
  },
  {
   "cell_type": "code",
   "execution_count": 110,
   "metadata": {},
   "outputs": [
    {
     "name": "stdout",
     "output_type": "stream",
     "text": [
      "Please tell the time = 7\n",
      "Patience is a virtue.\n"
     ]
    }
   ],
   "source": [
    "#Todo\n",
    "\n",
    "#Taking time from the user \n",
    "\n",
    "time = int(input(\"Please tell the time = \"))\n",
    "\n",
    "#Using if elif else conditions ,,, \n",
    "\n",
    "if ((time >= 0) and (time <= 23)): \n",
    "    \n",
    "    if ((time >= 4) and (time <= 6)):\n",
    "        print(\"Breakfast\")\n",
    "        \n",
    "    elif ((time == 12) or (time == 13)):\n",
    "        print(\"Lunch\")\n",
    "        \n",
    "    elif ((time == 16) or (time == 17)):\n",
    "        print(\"Snacks\")\n",
    "    \n",
    "    elif ((time == 19) or (time == 20)):\n",
    "        print(\"Dinner\")\n",
    "    \n",
    "    else:\n",
    "        print(\"Patience is a virtue.\")\n",
    "        \n",
    "else:\n",
    "    print(\"Wrong time.\")"
   ]
  },
  {
   "cell_type": "code",
   "execution_count": null,
   "metadata": {},
   "outputs": [],
   "source": []
  },
  {
   "cell_type": "code",
   "execution_count": null,
   "metadata": {},
   "outputs": [],
   "source": []
  }
 ],
 "metadata": {
  "kernelspec": {
   "display_name": "Python 3",
   "language": "python",
   "name": "python3"
  },
  "language_info": {
   "codemirror_mode": {
    "name": "ipython",
    "version": 3
   },
   "file_extension": ".py",
   "mimetype": "text/x-python",
   "name": "python",
   "nbconvert_exporter": "python",
   "pygments_lexer": "ipython3",
   "version": "3.7.6"
  }
 },
 "nbformat": 4,
 "nbformat_minor": 4
}
