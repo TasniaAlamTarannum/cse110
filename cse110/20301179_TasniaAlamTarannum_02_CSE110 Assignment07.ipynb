{
 "cells": [
  {
   "cell_type": "markdown",
   "metadata": {
    "colab_type": "text",
    "id": "oMYzsTcnHEll"
   },
   "source": [
    "# CSE110 Assignment 7\n",
    "\n",
    "\n",
    "## Write the Python code of the following problems:\n",
    "**<font color='red'>[MUST MAINTAIN VARIABLE NAMING CONVENTIONS FOR ALL THE TASKS]</font>**"
   ]
  },
  {
   "cell_type": "markdown",
   "metadata": {
    "colab_type": "text",
    "id": "jT-t2zlnHEll"
   },
   "source": [
    "### Task 1\n",
    "\n",
    "Given a list named my_list. <br/>\n",
    "my_list=[10,1,20,3,6,2,5,11,15,2,12,14,17,18,29] <br/>\n",
    "Now use bubble sort to sort my_list into ascending order.\n",
    "\n",
    "**Output**<br/>\n",
    "[1, 2, 2, 3, 5, 6, 10, 11, 12, 14, 15, 17, 18, 20, 29]"
   ]
  },
  {
   "cell_type": "code",
   "execution_count": 14,
   "metadata": {
    "colab": {},
    "colab_type": "code",
    "id": "7qXVakLgHElm"
   },
   "outputs": [
    {
     "name": "stdout",
     "output_type": "stream",
     "text": [
      "[1, 2, 2, 3, 5, 6, 10, 11, 12, 14, 15, 17, 18, 20, 29]\n"
     ]
    }
   ],
   "source": [
    "#todo\n",
    "#my_list=[10,1,20,3,6,2,5,11,15,2,12,14,17,18,29]\n",
    "def bubbleSort(my_list):\n",
    "    for num in range(len(my_list)-1,0,-1):\n",
    "        for num2 in range(num):\n",
    "            if my_list[num2] > my_list[num2+1]:\n",
    "                temp = my_list[num2]\n",
    "                my_list[num2] = my_list[num2+1]\n",
    "                my_list[num2+1] = temp\n",
    "\n",
    "my_list = [10,1,20,3,6,2,5,11,15,2,12,14,17,18,29]\n",
    "bubbleSort(my_list)\n",
    "print(my_list)\n",
    " "
   ]
  },
  {
   "cell_type": "markdown",
   "metadata": {
    "colab_type": "text",
    "id": "w1QgeWd2HElp"
   },
   "source": [
    "### Task 2\n",
    "\n",
    "Given a list named my_list. <br/>\n",
    "my_list=[10,1,20,3,6,2,5,11,15,2,12,14,17,18,29] <br/>\n",
    "Now use selection sort to sort my_list into ascending order.\n",
    "\n",
    "**Output**<br/>\n",
    "[1, 2, 2, 3, 5, 6, 10, 11, 12, 14, 15, 17, 18, 20, 29]\n",
    "\n"
   ]
  },
  {
   "cell_type": "code",
   "execution_count": 13,
   "metadata": {
    "colab": {},
    "colab_type": "code",
    "id": "am0B_8ICHElq"
   },
   "outputs": [
    {
     "name": "stdout",
     "output_type": "stream",
     "text": [
      "[1, 2, 2, 3, 5, 6, 10, 11, 12, 14, 15, 17, 18, 20, 29]\n"
     ]
    }
   ],
   "source": [
    "#todo\n",
    "\n",
    "def selecsort(my_list):\n",
    "    for num in range(len(my_list)):\n",
    "        minpos = num\n",
    "        for num2 in range(num,len(my_list)):\n",
    "            if my_list[num2] < my_list[minpos]:\n",
    "                minpos = num2\n",
    "        temp = my_list[num]\n",
    "        my_list[num] = my_list[minpos]\n",
    "        my_list[minpos] = temp\n",
    "        \n",
    "my_list = [10,1,20,3,6,2,5,11,15,2,12,14,17,18,29]\n",
    "selecsort(my_list)\n",
    "print(my_list)\n",
    "         "
   ]
  },
  {
   "cell_type": "markdown",
   "metadata": {
    "colab_type": "text",
    "id": "j4ffr2CAHElt"
   },
   "source": [
    "### Task  3\n",
    "\n",
    "Given a list named my_list. <br/>\n",
    "my_list=[10,1,20,3,6,2,5,11,15,2,12,14,17,18,29] <br/>\n",
    "Now use any of the two sorts used above to sort the list in descending order.\n",
    "\n",
    "**Output**<br/>\n",
    "[29, 20, 18, 17, 15, 14, 12, 11, 10, 6, 5, 3, 2, 2, 1]\n"
   ]
  },
  {
   "cell_type": "code",
   "execution_count": 12,
   "metadata": {
    "colab": {},
    "colab_type": "code",
    "id": "n2X3YR-_HElt"
   },
   "outputs": [
    {
     "name": "stdout",
     "output_type": "stream",
     "text": [
      "[29, 20, 18, 17, 15, 14, 12, 11, 10, 6, 5, 3, 2, 2, 1]\n"
     ]
    }
   ],
   "source": [
    "#todo\n",
    "\n",
    "\n",
    "def selecsort(my_list):\n",
    "    for num in range(len(my_list)):\n",
    "        minpos = num\n",
    "        for num2 in range(num,len(my_list)):\n",
    "            if my_list[num2] > my_list[minpos]:\n",
    "                minpos = num2\n",
    "        temp = my_list[num]\n",
    "        my_list[num] = my_list[minpos]\n",
    "        my_list[minpos] = temp\n",
    "        \n",
    "my_list = [10,1,20,3,6,2,5,11,15,2,12,14,17,18,29]\n",
    "selecsort(my_list )\n",
    "print(my_list)"
   ]
  },
  {
   "cell_type": "markdown",
   "metadata": {
    "colab_type": "text",
    "id": "9iYiiTWWHElw"
   },
   "source": [
    "### Task 4\n",
    "\n",
    "Suppose you have a sitting arrangement of the students of the final exam in a list. The list contains the last two digits of their roll number.<br/>\n",
    "\n",
    "sitting_list=[10,30,20,70,11,15,22,16,58,100,12,56,70,80] <br/>\n",
    "\n",
    "Now you want to organize the sitting arrangement. You decided to sort all the students in the even indices into ascending order and all the students in the odd indices  into descending order.  <br/>\n",
    "\n",
    "So write a python program that organizes the list for you the way you decided.<br/>\n",
    "\n",
    "\n",
    "**Sample Output**<br/>\n",
    "[10, 100, 11, 80, 12, 70, 20, 56, 22, 30, 58, 16, 70, 15]"
   ]
  },
  {
   "cell_type": "code",
   "execution_count": 11,
   "metadata": {
    "colab": {},
    "colab_type": "code",
    "id": "nPdUAKDJHElw"
   },
   "outputs": [
    {
     "name": "stdout",
     "output_type": "stream",
     "text": [
      "[10, 11, 12, 20, 22, 58, 70]\n",
      "[100, 80, 70, 56, 30, 16, 15]\n",
      "[10, 100, 11, 80, 12, 70, 20, 56, 22, 30, 58, 16, 70, 15]\n"
     ]
    }
   ],
   "source": [
    "#todo\n",
    "\n",
    "sitting_list=[10,30,20,70,11,15,22,16,58,100,12,56,70,80]\n",
    "            # 0    1  2  3  4  5  6  7  8  9 10   11  12  13\n",
    "#print(sitting_list)    \n",
    "    \n",
    "even = []\n",
    "odd =  []\n",
    "result = []\n",
    "\n",
    "#print(range(len(sitting_list)))    \n",
    "for index in range(len(sitting_list)):\n",
    "    \n",
    "    #print(index)\n",
    "    if index % 2 == 0 :\n",
    "        even.append(sitting_list[index])\n",
    "        #print(even)\n",
    "    if index % 2 != 0 :\n",
    "        odd.append(sitting_list[index])\n",
    "        #print(odd)\n",
    "\n",
    "for num in range(len(even)-1,0,-1):\n",
    "        for num2 in range(num):\n",
    "            if even[num2] > even[num2+1]:\n",
    "                temp = even[num2]\n",
    "                even[num2] = even[num2+1]\n",
    "                even[num2+1] = temp\n",
    "print(even)\n",
    "\n",
    "for num in range(len(odd)-1,0,-1):\n",
    "        for num2 in range(num):\n",
    "            if odd[num2] < odd[num2+1]:\n",
    "                temp = odd[num2]\n",
    "                odd[num2] = odd[num2+1]\n",
    "                odd[num2+1] = temp\n",
    "print(odd)\n",
    "\n",
    "\n",
    "for num in range(len(odd)):\n",
    "        result.append(even[num])\n",
    "        result.append(odd[num]) \n",
    "print(result)\n",
    "        "
   ]
  },
  {
   "cell_type": "markdown",
   "metadata": {
    "colab_type": "text",
    "id": "oVR1Tsa0HElz"
   },
   "source": [
    "### Task 5\n",
    "\n",
    "Suppose a list contains the final exam results of CSE110, PHY111, and MAT110 of each student in a listed form. Your task is to sort the list based on a course name that will be given by the user and print the names after sorting. <br/>\n",
    "\n",
    "For example, a list looks like <br/>\n",
    "Lst = [ [‘Farzad’,95,87,91] , [‘Mahjabin’,92,90,83], [‘Sadman’,87,92,80], [‘Nakhla’,85,94,90] ] <br/>\n",
    "where for each list, 1st index is name, 2nd index is CSE110, 3rd index is PHY111 and 4th index is MAT110. \n",
    "\n",
    "**Sample Input**<br/>\n",
    "MAT110\n",
    "\n",
    "**Sample Output**<br/>\n",
    "Farzad <br/>\n",
    "Nakhla <br/>\n",
    "Mahjabin <br/>\n",
    "Sadman\n",
    "\n",
    "**Hint:**<br/>\n",
    "Nested list can be accessed by listname[firstIndex][secondIndex] like lst[0][0] will give Farzad\n"
   ]
  },
  {
   "cell_type": "code",
   "execution_count": 18,
   "metadata": {
    "colab": {},
    "colab_type": "code",
    "id": "539b2P1NHElz"
   },
   "outputs": [
    {
     "name": "stdout",
     "output_type": "stream",
     "text": [
      "Enter course name = MAT110\n",
      "Farzad\n",
      "Nakhla\n",
      "Mahjabin\n",
      "Sadman\n"
     ]
    }
   ],
   "source": [
    "#todo\n",
    "name = input(\"Enter course name = \")  \n",
    "\n",
    "\n",
    "if 'CSE110' in name:\n",
    "            index = 1\n",
    "if \"PHY111\" in name :\n",
    "            index = 2\n",
    "if \"MAT110\" in name :\n",
    "            index = 3       \n",
    "\n",
    "\n",
    "lst = [ [\"Farzad\",95,87,91] , [\"Mahjabin\",92,90,83], [\"Sadman\",87,92,80], [\"Nakhla\",85,94,90]] \n",
    "names = {}  \n",
    "list1 = [] \n",
    "\n",
    "for num in range(len(lst)): \n",
    "            #print(i)\n",
    "            names[lst[num][index]] = lst[num][0]\n",
    "            #print(a)\n",
    "            list1.append(lst[num][index])\n",
    "            #print(list1)        \n",
    "for num in range(len(list1)-1):\n",
    "            index =num\n",
    "            for num2 in range (num +1 ,len(list1)):\n",
    "                if list1[num2] > list1[index]:\n",
    "                         index = num2\n",
    "                if list1[index] > list1[num]:\n",
    "                        temp = list1[num] \n",
    "                        list1[num] = list1[index]\n",
    "                        list1[index] = temp\n",
    "                \n",
    "                        \n",
    "for item in list1:\n",
    "        print(names[item])"
   ]
  },
  {
   "cell_type": "markdown",
   "metadata": {
    "colab_type": "text",
    "id": "B0Rqbyi4HEl2"
   },
   "source": [
    "# Task 6\n",
    "\n",
    "Suppose you have a list named my_list. Your task is to sort the list and print the count of numbers that have changed their position. <br/>\n",
    "My_list = [4,2,3,1,6,5] <br/>\n",
    "Sorted list would be [1,2,3,4,5,6] where 4 numbers have changed their position.\n",
    "\n",
    "\n",
    "**Sample Output**<br/>\n",
    "4"
   ]
  },
  {
   "cell_type": "code",
   "execution_count": 9,
   "metadata": {
    "colab": {},
    "colab_type": "code",
    "id": "AMc8jAa7HEl2"
   },
   "outputs": [
    {
     "name": "stdout",
     "output_type": "stream",
     "text": [
      "4\n"
     ]
    }
   ],
   "source": [
    "#todo\n",
    "\n",
    "def sorting(my_list):\n",
    "    new = []\n",
    "    count = 0\n",
    "    for item in my_list:\n",
    "        new.append(item)\n",
    "    for item in range(len(my_list)): \n",
    "        min_value = item\n",
    "       \n",
    "        for num in range(item, len(my_list)): \n",
    "            if my_list[num] < my_list[min_value]:\n",
    "                min_value = num\n",
    "                \n",
    "                #print(min_value)\n",
    "        temp = my_list[item] \n",
    "        my_list[item] = my_list[min_value] \n",
    "        my_list[min_value] = temp\n",
    "    for item in range(len(my_list)):\n",
    "        if my_list[item] != new[item]:\n",
    "            count += 1\n",
    "    \n",
    "    return count \n",
    "\n",
    "my_list = [4,2,3,1,6,5]\n",
    "print(sorting(my_list))\n"
   ]
  },
  {
   "cell_type": "markdown",
   "metadata": {
    "colab_type": "text",
    "id": "iIH5n0sJHEl5"
   },
   "source": [
    "### Task 7\n",
    "\n",
    "Write a python program that takes two lists from the user, merges the two lists, sorts the list, and find the median of the elements of the two lists.\n",
    "\n",
    "**Sample Input 1**<br/>\n",
    "list_one= [1,2,1,4] <br/>\n",
    "list_two= [5,4,1]\n",
    "\n",
    "\n",
    "**Sample Output 1**<br/>\n",
    "Sorted list= [1, 1, 1, 2, 4, 4, 5] <br/>\n",
    "Median = 2\n",
    "\n",
    "**Sample Input 2**<br/>\n",
    "list_one= [1,7,9,10] <br/>\n",
    "list_two= [2,7,6,5]\n",
    "\n",
    "\n",
    "**Sample Output 2**<br/>\n",
    "Sorted list=[1, 2, 5, 6, 7, 7, 9, 10] <br/>\n",
    "Median=6.5\n",
    "\n"
   ]
  },
  {
   "cell_type": "code",
   "execution_count": 17,
   "metadata": {
    "colab": {},
    "colab_type": "code",
    "id": "KsFxC7XbHEl6"
   },
   "outputs": [
    {
     "name": "stdout",
     "output_type": "stream",
     "text": [
      "ENTER list 1 = 1,7,9,10\n",
      "ENTER list 2 = 2,7,6,5\n",
      "Sorted list =  [1, 2, 5, 6, 7, 7, 9, 10]\n",
      "6.5\n"
     ]
    }
   ],
   "source": [
    "#todo\n",
    "def mergmean():\n",
    "    list_one = [int(x) for x in input(\"ENTER list 1 = \").split(\",\")]\n",
    "    #print(list_one)\n",
    "\n",
    "    list_two = [int(x) for x in input(\"ENTER list 2 = \").split(\",\")]\n",
    "    #print(list_two)\n",
    "\n",
    "    \n",
    "    final_list = list_one + list_two\n",
    "    #print(final_list)    \n",
    "    sorted_list = sorted(final_list)\n",
    "    print(\"Sorted list = \", sorted_list)\n",
    "\n",
    "    if len(sorted_list) % 2 != 0:\n",
    "        odd = sorted_list[len(sorted_list) // 2]\n",
    "        print(odd)\n",
    "    else:\n",
    "        even = (sorted_list[len(sorted_list) // 2] + sorted_list[len(sorted_list) // 2 - 1]) / 2\n",
    "        print(even)\n",
    "mergmean()        "
   ]
  },
  {
   "cell_type": "markdown",
   "metadata": {
    "colab_type": "text",
    "id": "-XKiwBR1HEl8"
   },
   "source": [
    "### Task 8\n",
    "\n",
    "\n",
    "Write a python program that takes a list from user containing both positive and negative numbers. The program then finds two pairs of values whose summation is closest to zero.\n",
    "\n",
    "**Sample Input 1**<br/>\n",
    "list_one=[-10,15,2,4,-4,7,-8] \n",
    "\n",
    "\n",
    "**Sample Output 1**<br/>\n",
    "Two pairs which have the smallest sum = 4 and -4\n",
    "\n",
    "\n",
    "**Sample Input 2**<br/>\n",
    "list_one=[1,-8,4,-7,-20,26,70,-85]\n",
    "\n",
    "\n",
    "**Sample Output 2**<br/>\n",
    "Two pairs which have the smallest sum = 4 and -7"
   ]
  },
  {
   "cell_type": "code",
   "execution_count": 16,
   "metadata": {
    "colab": {},
    "colab_type": "code",
    "id": "5ORSGa5GHEl9"
   },
   "outputs": [
    {
     "name": "stdout",
     "output_type": "stream",
     "text": [
      "Two pairs which have the smallest sum =  4 and -4\n"
     ]
    }
   ],
   "source": [
    "#todo\n",
    "\n",
    "def zerosumpair(list_one,size): \n",
    "   \n",
    "    mini = 0\n",
    "    maxi = 1\n",
    "    min_sum = list_one[0] + list_one[1] \n",
    "    for num in range (0, size - 1): \n",
    "        for num2 in range (num + 1, size): \n",
    "            sum = list_one[num] + list_one[num2]     #abs() for absolute value              \n",
    "            if abs(min_sum) > abs(sum):          \n",
    "                min_sum = sum\n",
    "                mini = num \n",
    "                maxi = num2 \n",
    "  \n",
    "    print(\"Two pairs which have the smallest sum = \",  list_one[mini], \"and\", list_one[maxi]) \n",
    "list_one = [-10,15,2,4,-4,7,-8]\n",
    "  \n",
    "zerosumpair(list_one, len(list_one)) "
   ]
  }
 ],
 "metadata": {
  "colab": {
   "collapsed_sections": [],
   "name": "CSE110 Assignment07.ipynb",
   "provenance": []
  },
  "kernelspec": {
   "display_name": "Python 3",
   "language": "python",
   "name": "python3"
  },
  "language_info": {
   "codemirror_mode": {
    "name": "ipython",
    "version": 3
   },
   "file_extension": ".py",
   "mimetype": "text/x-python",
   "name": "python",
   "nbconvert_exporter": "python",
   "pygments_lexer": "ipython3",
   "version": "3.7.6"
  }
 },
 "nbformat": 4,
 "nbformat_minor": 1
}
